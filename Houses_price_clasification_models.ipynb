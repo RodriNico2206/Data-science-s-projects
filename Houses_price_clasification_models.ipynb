{
 "cells": [
  {
   "cell_type": "markdown",
   "id": "b417bc82",
   "metadata": {},
   "source": [
    "<span style=\"color:blue; font-size: 150%;\">Importing Python's libraries</span> 🐍"
   ]
  },
  {
   "cell_type": "code",
   "execution_count": 1,
   "id": "5079c9f3",
   "metadata": {},
   "outputs": [],
   "source": [
    "import numpy as np\n",
    "import pandas as pd\n",
    "import seaborn as sn"
   ]
  },
  {
   "cell_type": "markdown",
   "id": "30a34c89",
   "metadata": {},
   "source": [
    "<span style=\"color:blue; font-size: 150%;\">Loading data</span> 📊"
   ]
  },
  {
   "cell_type": "code",
   "execution_count": 2,
   "id": "179bb9e1",
   "metadata": {},
   "outputs": [],
   "source": [
    "# CSV's path\n",
    "path = 'https://raw.githubusercontent.com/RodriNico2206/Data_sets/main/Logistic%20Regression/Classification%20preprocessed%20data%20Python.csv'\n",
    "\n",
    "# Read the CSV file\n",
    "df = pd.read_csv(path, header = 0)"
   ]
  },
  {
   "cell_type": "code",
   "execution_count": null,
   "id": "ef3b45a3",
   "metadata": {},
   "outputs": [],
   "source": []
  },
  {
   "cell_type": "code",
   "execution_count": null,
   "id": "ab27450b",
   "metadata": {},
   "outputs": [],
   "source": []
  },
  {
   "cell_type": "code",
   "execution_count": null,
   "id": "567c8754",
   "metadata": {},
   "outputs": [],
   "source": []
  }
 ],
 "metadata": {
  "kernelspec": {
   "display_name": "Python 3 (ipykernel)",
   "language": "python",
   "name": "python3"
  },
  "language_info": {
   "codemirror_mode": {
    "name": "ipython",
    "version": 3
   },
   "file_extension": ".py",
   "mimetype": "text/x-python",
   "name": "python",
   "nbconvert_exporter": "python",
   "pygments_lexer": "ipython3",
   "version": "3.11.1"
  }
 },
 "nbformat": 4,
 "nbformat_minor": 5
}
